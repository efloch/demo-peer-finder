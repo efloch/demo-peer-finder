{
 "cells": [
  {
   "cell_type": "code",
   "execution_count": 1,
   "metadata": {
    "scrolled": true
   },
   "outputs": [],
   "source": [
    "%matplotlib inline\n",
    "import warnings\n",
    "warnings.filterwarnings('ignore')\n",
    "from src.call_finder import *"
   ]
  },
  {
   "cell_type": "markdown",
   "metadata": {},
   "source": [
    "# Community Peer Explorer Demo\n",
    "\n",
    "This notebook is an interactive demo of the Locus Peer Explorer package. \n",
    "It allows you to find and explore the peers of any MSA in 2015 or 2016. \n",
    "\n",
    "### Geographic Peers\n",
    "\n",
    "The first type of peer we can identify are geographic peers.\n",
    "This feature returns the MSA which are the closest to you."
   ]
  },
  {
   "cell_type": "code",
   "execution_count": 2,
   "metadata": {
    "scrolled": true
   },
   "outputs": [
    {
     "data": {
      "application/vnd.jupyter.widget-view+json": {
       "model_id": "5da6dc0d48b54381ac6675ec37c516af",
       "version_major": 2,
       "version_minor": 0
      },
      "text/plain": [
       "interactive(children=(Dropdown(description='Area of interest', layout=Layout(width='80%'), options={'Abilene, …"
      ]
     },
     "metadata": {},
     "output_type": "display_data"
    }
   ],
   "source": [
    "geo = interact_manual(show_peers, df_county_dist=fixed(df_county_dist), df_msa_def= fixed(df_msa_def),area=input_area, n_peers=input_n_peers, year=fixed(2015))\n"
   ]
  },
  {
   "cell_type": "markdown",
   "metadata": {},
   "source": [
    "### Input FMs peers\n",
    "\n",
    "This second feature allows the user to find its peers based on any subset of FMs. This will return the MSAs that have the most similar concentration of those FMs. You can also choose to identify peers based on outcomes.\n",
    "\n",
    "To select or unselect multiple FMs or outcomes, hold the cmd key. \n",
    "\n",
    "The graphs allow to compare:\n",
    "* the FM concentration of the user MSA to its peers, to the national mean and 1st and 3rd quantile (in red).\n",
    "* the distribution of FM concentration within the peer group and among all other MSAs."
   ]
  },
  {
   "cell_type": "code",
   "execution_count": 3,
   "metadata": {
    "scrolled": false
   },
   "outputs": [
    {
     "data": {
      "application/vnd.jupyter.widget-view+json": {
       "model_id": "900fc97f80a2474d8cb8ac79ea44f373",
       "version_major": 2,
       "version_minor": 0
      },
      "text/plain": [
       "interactive(children=(Dropdown(description='Area of interest', layout=Layout(width='80%'), options={'Abilene, …"
      ]
     },
     "metadata": {},
     "output_type": "display_data"
    }
   ],
   "source": [
    "input_peers = interact_manual(show_fms_peers, area=input_area, year=fixed(2015), n_peers=input_n_peers,fms=input_fms, outcomes=input_outcomes)\n"
   ]
  },
  {
   "cell_type": "markdown",
   "metadata": {},
   "source": [
    "## Automatically selected FMs\n",
    "\n",
    "For all the next appoaches, we automatically select a subset of FMs or Outcomes and then find the MSAs that are the most similar to you on this subset of features using a distance metric. \n",
    "\n",
    "#### Most present FMs \n",
    "\n",
    "\n",
    "This feature will return the peers based on the first top n FMs that are the most prevalent in your MSA. You will be able to specify n, the number of FMs you want to base the peer identification on.\n",
    "  "
   ]
  },
  {
   "cell_type": "code",
   "execution_count": 4,
   "metadata": {
    "scrolled": true,
    "tags": [
     "hide"
    ]
   },
   "outputs": [
    {
     "data": {
      "application/vnd.jupyter.widget-view+json": {
       "model_id": "1583182410694b2eb2dc3a7f27ae02e1",
       "version_major": 2,
       "version_minor": 0
      },
      "text/plain": [
       "interactive(children=(Dropdown(description='Area of interest', layout=Layout(width='80%'), options={'Abilene, …"
      ]
     },
     "metadata": {},
     "output_type": "display_data"
    }
   ],
   "source": [
    "top_fms = interact_manual(show_top_fms_peers,area=input_area, year=input_year, n_peers=input_n_peers, n_fms=input_n_fms, filter_pop = input_population)\n"
   ]
  },
  {
   "cell_type": "markdown",
   "metadata": {},
   "source": [
    "#### Distinguishing features \n",
    "\n",
    "The peers returned here are based on the FMs that are distinguishing for your MSA. It will include the most present FMs but also the least present. FMs are ranked based on how much the concentration in your MSA differs from other MSAs. You can choose how many of those distinguishing features you want to base your analysis on."
   ]
  },
  {
   "cell_type": "code",
   "execution_count": 5,
   "metadata": {
    "scrolled": true
   },
   "outputs": [
    {
     "ename": "NameError",
     "evalue": "name 'df_data' is not defined",
     "output_type": "error",
     "traceback": [
      "\u001b[0;31m---------------------------------------------------------------------------\u001b[0m",
      "\u001b[0;31mNameError\u001b[0m                                 Traceback (most recent call last)",
      "\u001b[0;32m<ipython-input-5-9b127cddc5d3>\u001b[0m in \u001b[0;36m<module>\u001b[0;34m\u001b[0m\n\u001b[0;32m----> 1\u001b[0;31m \u001b[0mdisting\u001b[0m \u001b[0;34m=\u001b[0m \u001b[0minteract_manual\u001b[0m\u001b[0;34m(\u001b[0m\u001b[0mshow_disting_peers\u001b[0m\u001b[0;34m,\u001b[0m \u001b[0mdf_data\u001b[0m\u001b[0;34m=\u001b[0m\u001b[0mfixed\u001b[0m\u001b[0;34m(\u001b[0m\u001b[0mdf_data\u001b[0m\u001b[0;34m)\u001b[0m\u001b[0;34m,\u001b[0m \u001b[0mmsa\u001b[0m\u001b[0;34m=\u001b[0m\u001b[0minput_msa\u001b[0m\u001b[0;34m,\u001b[0m \u001b[0myear\u001b[0m\u001b[0;34m=\u001b[0m\u001b[0minput_year\u001b[0m\u001b[0;34m,\u001b[0m \u001b[0mn_peers\u001b[0m\u001b[0;34m=\u001b[0m\u001b[0minput_n_peers\u001b[0m\u001b[0;34m,\u001b[0m \u001b[0mn_feat\u001b[0m\u001b[0;34m=\u001b[0m\u001b[0minput_n_features\u001b[0m\u001b[0;34m,\u001b[0m \u001b[0mfilter_pop\u001b[0m \u001b[0;34m=\u001b[0m \u001b[0minput_population\u001b[0m\u001b[0;34m)\u001b[0m\u001b[0;34m\u001b[0m\u001b[0;34m\u001b[0m\u001b[0m\n\u001b[0m",
      "\u001b[0;31mNameError\u001b[0m: name 'df_data' is not defined"
     ]
    }
   ],
   "source": [
    "disting = interact_manual(show_disting_peers, area=input_area, year=input_year, n_peers=input_n_peers, n_feat=input_n_features, filter_pop = input_population)\n"
   ]
  }
 ],
 "metadata": {
  "kernelspec": {
   "display_name": "Python 3",
   "language": "python",
   "name": "python3"
  },
  "language_info": {
   "codemirror_mode": {
    "name": "ipython",
    "version": 3
   },
   "file_extension": ".py",
   "mimetype": "text/x-python",
   "name": "python",
   "nbconvert_exporter": "python",
   "pygments_lexer": "ipython3",
   "version": "3.7.3"
  }
 },
 "nbformat": 4,
 "nbformat_minor": 4
}
