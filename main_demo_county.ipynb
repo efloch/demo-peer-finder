{
 "cells": [
  {
   "cell_type": "code",
   "execution_count": 1,
   "metadata": {
    "scrolled": true
   },
   "outputs": [],
   "source": [
    "%matplotlib inline\n",
    "import warnings\n",
    "warnings.filterwarnings('ignore')\n",
    "from src.call_finder_county import *\n",
    "\n",
    "# df_data = pd.read_csv(\"data/processed/county_metrics_outcomes.csv\")\n"
   ]
  },
  {
   "cell_type": "markdown",
   "metadata": {},
   "source": [
    "# Community Peer Explorer Demo\n",
    "\n",
    "This notebook is an interactive demo of the Locus Peer Explorer package. \n",
    "It allows you to find and explore the peers of any MSA or county in 2016. \n",
    "\n",
    "## Identifying geographic peers\n",
    "\n",
    "The first type of peer we can identify are geographic peers.\n",
    "This feature returns the communities which are the closest to you geographically."
   ]
  },
  {
   "cell_type": "code",
   "execution_count": 2,
   "metadata": {
    "scrolled": true
   },
   "outputs": [
    {
     "data": {
      "application/vnd.jupyter.widget-view+json": {
       "model_id": "ae62becd3ccb4856bce39ce39fc55bc5",
       "version_major": 2,
       "version_minor": 0
      },
      "text/plain": [
       "interactive(children=(Dropdown(description='Area of interest', index=1761, layout=Layout(width='80%'), options…"
      ]
     },
     "metadata": {},
     "output_type": "display_data"
    }
   ],
   "source": [
    "geo = interact_manual(show_peers, df_county_dist=fixed(df_county_dist), df_msa_def= fixed(df_msa_def),area=input_area, n_peers=input_n_peers, year=fixed(2016))\n"
   ]
  },
  {
   "cell_type": "markdown",
   "metadata": {},
   "source": [
    "## Identifying peers with user selected industries and outcomes\n",
    "\n",
    "This second feature allows the user to find its peers based on any subset of industries and outcomes. This will return the communities that have the most similar concentration of those industries and closest level of outcomes.\n",
    "\n",
    "To select or unselect multiple industries or outcomes, hold the cmd key. \n",
    "\n",
    "The graphs allow to compare:\n",
    "* the industry concentration of the user's community to its peers, to the national mean and 1st and 3rd quantile (in orange).\n",
    "* the distribution of industry concentration within the peer group and among all other communities."
   ]
  },
  {
   "cell_type": "code",
   "execution_count": 3,
   "metadata": {
    "scrolled": false
   },
   "outputs": [
    {
     "data": {
      "application/vnd.jupyter.widget-view+json": {
       "model_id": "eea7f464e4184b16913160830fde449b",
       "version_major": 2,
       "version_minor": 0
      },
      "text/plain": [
       "interactive(children=(Dropdown(description='Area of interest', index=1761, layout=Layout(width='80%'), options…"
      ]
     },
     "metadata": {},
     "output_type": "display_data"
    }
   ],
   "source": [
    "input_peers = interact_manual(show_fms_peers, area=input_area, year=fixed(2016), n_peers=input_n_peers,fms=input_fms, outcomes=input_outcomes)\n"
   ]
  },
  {
   "cell_type": "markdown",
   "metadata": {},
   "source": [
    "## Identifying peers with algorithmically selected industries\n",
    "\n",
    "For all the next appoaches, we automatically select a subset of industries and find the communities that are the most similar to you on this subset of features using a distance metric. \n",
    "\n",
    "#### Most concentrated industries \n",
    "\n",
    "This feature will return the peers based on the industries that are the most prevalent in your community. You will be able to specify the number of industries you want to base the peer identification on.\n",
    "  "
   ]
  },
  {
   "cell_type": "code",
   "execution_count": 4,
   "metadata": {
    "scrolled": true,
    "tags": [
     "hide"
    ]
   },
   "outputs": [
    {
     "data": {
      "application/vnd.jupyter.widget-view+json": {
       "model_id": "f9e929af70aa4322b5fad7157e254ecd",
       "version_major": 2,
       "version_minor": 0
      },
      "text/plain": [
       "interactive(children=(Dropdown(description='Area of interest', index=1761, layout=Layout(width='80%'), options…"
      ]
     },
     "metadata": {},
     "output_type": "display_data"
    }
   ],
   "source": [
    "top_fms = interact_manual(show_top_fms_peers,area=input_area, year=fixed(2016), n_peers=input_n_peers, n_fms=input_n_fms, filter_pop = input_population, save_fig='./results/')\n"
   ]
  },
  {
   "cell_type": "markdown",
   "metadata": {},
   "source": [
    "#### Most distinguishing industries\n",
    "\n",
    "The peers returned here are based on the industries that are distinguishing for your community. It will include the most present industries but also the least present. Industries are ranked based on how much their concentration in your community differs from other communities. You can choose how many of those distinguishing features you want to base your analysis on."
   ]
  },
  {
   "cell_type": "code",
   "execution_count": 5,
   "metadata": {
    "scrolled": true
   },
   "outputs": [
    {
     "data": {
      "application/vnd.jupyter.widget-view+json": {
       "model_id": "cb071af4362e4891b5f6511d58bc5196",
       "version_major": 2,
       "version_minor": 0
      },
      "text/plain": [
       "interactive(children=(Dropdown(description='Area of interest', index=1761, layout=Layout(width='80%'), options…"
      ]
     },
     "metadata": {},
     "output_type": "display_data"
    }
   ],
   "source": [
    "disting = interact_manual(show_disting_peers, area=input_area,  year=fixed(2016), n_peers=input_n_peers, n_feat=input_n_features, filter_pop = input_population, save_fig='./results/')\n"
   ]
  },
  {
   "cell_type": "code",
   "execution_count": null,
   "metadata": {},
   "outputs": [],
   "source": []
  },
  {
   "cell_type": "code",
   "execution_count": null,
   "metadata": {},
   "outputs": [],
   "source": []
  }
 ],
 "metadata": {
  "kernelspec": {
   "display_name": "Python 3",
   "language": "python",
   "name": "python3"
  },
  "language_info": {
   "codemirror_mode": {
    "name": "ipython",
    "version": 3
   },
   "file_extension": ".py",
   "mimetype": "text/x-python",
   "name": "python",
   "nbconvert_exporter": "python",
   "pygments_lexer": "ipython3",
   "version": "3.6.5"
  }
 },
 "nbformat": 4,
 "nbformat_minor": 4
}
