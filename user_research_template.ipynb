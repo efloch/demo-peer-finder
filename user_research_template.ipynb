{
 "cells": [
  {
   "cell_type": "markdown",
   "metadata": {},
   "source": [
    "# Community Peer Explorer Demo\n",
    "\n",
    "This notebook is an demo of the Locus Peer Explorer package. \n",
    "It allows you to find and explore the peers of any MSA in 2015 or 2016. \n",
    "\n",
    "The different types of peers that you can explore are :\n",
    "* **Geographic peers**: finds the n closest MSAs. This is usually what is usually done by our potential users as they look for their neighboors. \n",
    "* **Input peers**: this features allows you to find peers based on the concentration of any FMs. This will return the n MSAs that have the most similar distribution of those FMs compared to your MSA. You can also choose to identify peers based on outcomes.\n",
    "* **Peers based on FMs or outcomes automatically selected**: for all these appoaches, we automatically select a subset of FMs or Outcomes and then find the MSAs that are the most similar to you on this subset of features using a distance metric. \n",
    "    * *Top FMs*: this feature will return the peers based on the first top n FMs that are the most prevalent in your MSA. You will be able to specify n, the number of FMs you want to base the peer identification on.\n",
    "    * *Distinguishing FMs*: the peers returned here are based on the FMs that are distinguishing in your MSA. It will include the most present FMs but also the least present. FMs are ranked based on how much the concentration in your MSA differs from other MSAs. You then choose how many of those distinguishing features you want to base your analysis on.\n",
    "    * *Distinguishing outcomes*: as before, the peers returned here are based on the outcomes that are distinguishing for that MSA.\n",
    "    * *Minimum coverage peers*: this features selects enough FMs so that a given percentage of the total employment in your MSA is covered. As before, the FMs are selected from the most present to the least present. \n",
    "    * *Local/Non-local*: this selects only the local FMs or non-local FMs (waiting for that definition)."
   ]
  },
  {
   "cell_type": "code",
   "execution_count": 41,
   "metadata": {
    "tags": [
     "hide"
    ]
   },
   "outputs": [
    {
     "name": "stdout",
     "output_type": "stream",
     "text": [
      "/Users/efloch/Locus/peer-explorer\n"
     ]
    }
   ],
   "source": [
    "%matplotlib inline\n",
    "from ipywidgets import interactive\n",
    "from ipywidgets import interact,fixed, interact_manual,  Layout\n",
    "import ipywidgets as widgets\n",
    "%cd '/Users/efloch/Locus/peer-explorer/'\n",
    "import sys\n",
    "import locuspeerexplorer.peer_finder as find\n",
    "import locuspeerexplorer.peer_explorer as exp\n",
    "import locuspeerexplorer.peer_visualizer as vis\n",
    "import pandas as pd \n",
    "import os \n",
    "import geoviz.choropleth as choro\n",
    "\n",
    "df_data = pd.read_csv('/Users/efloch/Locus/peer-explorer/data/processed/metrics_outcomes.csv')\n",
    "df_msa_def = pd.read_csv(\"/Users/efloch/Locus/peer-explorer/data/external/omb_msa_1990_2018.csv\")\n",
    "df_county_dist = pd.read_csv(\"/Users/efloch/Locus/peer-explorer/data/processed/sf12010countydistance500miles.csv\")\n",
    "\n",
    "def code2name(code):\n",
    "    code = int(code)\n",
    "    return list(df_msa_def[df_msa_def['CBSA_CODE']==code].head(1).CBSA_TITLE)[0]\n",
    "\n",
    "def name2code(name):\n",
    "    df_name = df_msa_def[df_msa_def['CBSA_TITLE'].str.contains(name)]\n",
    "    return list(df_name.head(1).CBSA_CODE)[0]\n",
    "\n",
    "all_msas = df_msa_def.set_index('CBSA_TITLE').to_dict()['CBSA_CODE']\n",
    "all_fms = {' '.join((c.split('-')[0]).split('_')):c.split('-')[0] for c in df_data.columns if 'PC_EMPL' in c}\n",
    "all_fms['None'] = None\n",
    "all_outcomes = {c:c for c in list(df_data.columns)[3:] if ('-' not in c)}\n",
    "all_outcomes['None'] = None\n",
    "\n",
    "MSA='New York'\n",
    "input_n_peers = widgets.IntSlider(value=5,min=0,max=20,step=1,description='# of Peers',orientation='horizontal')\n",
    "input_n_features = widgets.IntSlider(value=5,min=0,max=30,step=1,description='# of Features',orientation='horizontal')\n",
    "input_year = widgets.RadioButtons(options=[2015, 2016],description='Year', disabled=False)\n",
    "input_msa = widgets.Dropdown(options=all_msas,value=name2code(MSA),description='MSA',layout=Layout(width=\"80%\"))\n",
    "input_fms = widgets.SelectMultiple(options=all_fms,description='FM',layout=Layout(width=\"80%\"))\n",
    "input_outcomes = widgets.SelectMultiple(options=all_outcomes,description='Outcome',layout=Layout(width=\"80%\"))\n"
   ]
  },
  {
   "cell_type": "markdown",
   "metadata": {},
   "source": [
    "# Geographic Peers"
   ]
  },
  {
   "cell_type": "code",
   "execution_count": 26,
   "metadata": {},
   "outputs": [
    {
     "data": {
      "application/vnd.jupyter.widget-view+json": {
       "model_id": "a56506a3442e4d5a9c8011ffb6407d86",
       "version_major": 2,
       "version_minor": 0
      },
      "text/plain": [
       "interactive(children=(Dropdown(description='MSA', index=237, options={'Abilene, TX ': 10180, 'Aguadilla-Isabel…"
      ]
     },
     "metadata": {},
     "output_type": "display_data"
    }
   ],
   "source": [
    "def show_peers(df_data, df_county_dist, df_msa_def,\n",
    "                         msa, n_peers, year):\n",
    "    peers, fms = find.get_geographic_peers(df_data, df_county_dist, df_msa_def,\n",
    "                         msa, n_peers, year)\n",
    "    peers.append(msa)\n",
    "    df_peers = pd.DataFrame({'MSA':[str(x) for x in peers]})\n",
    "    df_peers['MSA'] = df_peers['MSA'].astype(str)\n",
    "    df_peers['Name'] = df_peers['MSA'].apply(code2name)\n",
    "    df_peers['Is peer'] = 1\n",
    "    choro.plot(df_peers, 'MSA', 'cbsa', 'Is peer', 'sequential', \n",
    "               formatting={'state_outline':'after'})\n",
    "\n",
    "    return df_peers\n",
    "\n",
    "geo = interact_manual(show_peers, df_data=fixed(df_data), \n",
    "                     df_county_dist=fixed(df_county_dist), \n",
    "                     df_msa_def= fixed(df_msa_def),\n",
    "                     msa=input_msa, \n",
    "                     n_peers=input_n_peers, year=fixed(2015))"
   ]
  },
  {
   "cell_type": "markdown",
   "metadata": {},
   "source": [
    "# Input FMs peers"
   ]
  },
  {
   "cell_type": "code",
   "execution_count": 44,
   "metadata": {},
   "outputs": [
    {
     "data": {
      "application/vnd.jupyter.widget-view+json": {
       "model_id": "236a07a1aafe48a48a4e8a2791d5ad8e",
       "version_major": 2,
       "version_minor": 0
      },
      "text/plain": [
       "interactive(children=(Dropdown(description='MSA', index=237, layout=Layout(width='80%'), options={'Abilene, TX…"
      ]
     },
     "metadata": {},
     "output_type": "display_data"
    }
   ],
   "source": [
    "def show_fms_peers(df_data, msa, year, n_peers, fms, outcomes):\n",
    "    if fms == 'None': \n",
    "        fms = [] \n",
    "    else: \n",
    "        fms = list(fms)\n",
    "    if outcomes == 'None' :\n",
    "        outcomes = [] \n",
    "    else:\n",
    "        outcomes = list(outcomes)\n",
    "    peers, fms = find.get_peers_from_input(df_data, msa, year, n_peers, fms, outcomes)\n",
    "    for i in fms:\n",
    "        vis.quadrant_viz(df_data, msa, [msa]+peers, i, save_fig=False, show=True)\n",
    "    df_peers = pd.DataFrame({'MSA':[str(x) for x in peers]})\n",
    "    df_peers['Name'] = df_peers['MSA'].apply(code2name)\n",
    "    return df_peers\n",
    "    \n",
    "inputfms = interact_manual(show_fms_peers, df_data=fixed(df_data),\n",
    "          msa=input_msa, year=fixed(2015), n_peers=input_n_peers,\n",
    "                     fms=input_fms, outcomes=input_outcomes)"
   ]
  },
  {
   "cell_type": "markdown",
   "metadata": {},
   "source": [
    "# Distinguishing features peers "
   ]
  },
  {
   "cell_type": "code",
   "execution_count": 22,
   "metadata": {
    "tags": [
     "hide"
    ]
   },
   "outputs": [
    {
     "data": {
      "application/vnd.jupyter.widget-view+json": {
       "model_id": "746df45c5c6e44f2b0f291e5456cd51f",
       "version_major": 2,
       "version_minor": 0
      },
      "text/plain": [
       "interactive(children=(Dropdown(description='MSA', index=237, options={'Abilene, TX ': 10180, 'Aguadilla-Isabel…"
      ]
     },
     "metadata": {},
     "output_type": "display_data"
    },
    {
     "data": {
      "text/plain": [
       "<function __main__.show_disting_peers(df_data, msa, year, n_peers, n_feat)>"
      ]
     },
     "execution_count": 22,
     "metadata": {},
     "output_type": "execute_result"
    }
   ],
   "source": [
    "def show_disting_peers(df_data, msa, year, n_peers, n_feat):\n",
    "    peers, fms = find.get_distinguishing_features_peers(df_data, msa, year, n_peers, n_feat)\n",
    "    print(f\"Comparison of {msa} and its peers for the 5 most distinguishing FMs\")\n",
    "    for i in range(0,5): \n",
    "        vis.quadrant_viz(df_data, msa, [msa]+peers, fms[i], save_fig=False, show=True)\n",
    "    df_peers = pd.DataFrame({'MSA':[str(x) for x in peers]})\n",
    "    df_peers['Name'] = df_peers['MSA'].apply(code2name)\n",
    "    return df_peers\n",
    "\n",
    "disting = interact_manual(show_disting_peers, df_data=fixed(df_data),\n",
    "          msa=input_msa, year=input_year, n_peers=input_n_peers,\n",
    "                     n_feat=input_n_features)\n",
    "\n"
   ]
  },
  {
   "cell_type": "markdown",
   "metadata": {},
   "source": [
    "# Top FMs peers"
   ]
  },
  {
   "cell_type": "code",
   "execution_count": 24,
   "metadata": {},
   "outputs": [
    {
     "data": {
      "application/vnd.jupyter.widget-view+json": {
       "model_id": "87bf6e36edd447d19aedbe817ba807c7",
       "version_major": 2,
       "version_minor": 0
      },
      "text/plain": [
       "interactive(children=(Dropdown(description='MSA', index=237, options={'Abilene, TX ': 10180, 'Aguadilla-Isabel…"
      ]
     },
     "metadata": {},
     "output_type": "display_data"
    }
   ],
   "source": [
    "def show_top_fms_peers(df_data, msa, year, n_peers, n_fms):\n",
    "    peers, fms = find.get_top_n_fms_peers(df_data, msa, year, n_peers, n_fms)\n",
    "    print(f\"Comparison of {msa} and its peers for the 5 most present FMs\")\n",
    "    for i in range(0,5): \n",
    "        vis.quadrant_viz(df_data, msa, [msa]+peers, fms[i], save_fig=False, show=True)\n",
    "    df_peers = pd.DataFrame({'MSA':[str(x) for x in peers]})\n",
    "    df_peers['Name'] = df_peers['MSA'].apply(code2name)\n",
    "    return df_peers\n",
    "    \n",
    "top_fms = interact_manual(show_top_fms_peers, df_data=fixed(df_data),\n",
    "          msa=input_msa, year=input_year, n_peers=input_n_peers,\n",
    "                     n_fms=input_n_features)\n",
    "\n"
   ]
  }
 ],
 "metadata": {
  "celltoolbar": "Tags",
  "kernelspec": {
   "display_name": "Python 3",
   "language": "python",
   "name": "python3"
  },
  "language_info": {
   "codemirror_mode": {
    "name": "ipython",
    "version": 3
   },
   "file_extension": ".py",
   "mimetype": "text/x-python",
   "name": "python",
   "nbconvert_exporter": "python",
   "pygments_lexer": "ipython3",
   "version": "3.7.3"
  }
 },
 "nbformat": 4,
 "nbformat_minor": 4
}
